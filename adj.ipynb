{
 "cells": [
  {
   "cell_type": "code",
   "execution_count": 69,
   "metadata": {},
   "outputs": [],
   "source": [
    "import pandas as pd\n",
    "import json\n",
    "adj_df = pd.read_csv('grouped_movies_to_actors.csv')[['tconst', 'nconst']]"
   ]
  },
  {
   "cell_type": "code",
   "execution_count": 70,
   "metadata": {},
   "outputs": [
    {
     "data": {
      "text/html": [
       "<div>\n",
       "<style scoped>\n",
       "    .dataframe tbody tr th:only-of-type {\n",
       "        vertical-align: middle;\n",
       "    }\n",
       "\n",
       "    .dataframe tbody tr th {\n",
       "        vertical-align: top;\n",
       "    }\n",
       "\n",
       "    .dataframe thead th {\n",
       "        text-align: right;\n",
       "    }\n",
       "</style>\n",
       "<table border=\"1\" class=\"dataframe\">\n",
       "  <thead>\n",
       "    <tr style=\"text-align: right;\">\n",
       "      <th></th>\n",
       "      <th>tconst</th>\n",
       "      <th>nconst</th>\n",
       "    </tr>\n",
       "  </thead>\n",
       "  <tbody>\n",
       "    <tr>\n",
       "      <th>0</th>\n",
       "      <td>tt0061432</td>\n",
       "      <td>['nm0396998', 'nm0398193']</td>\n",
       "    </tr>\n",
       "    <tr>\n",
       "      <th>1</th>\n",
       "      <td>tt0062847</td>\n",
       "      <td>['nm0936259']</td>\n",
       "    </tr>\n",
       "    <tr>\n",
       "      <th>2</th>\n",
       "      <td>tt0062870</td>\n",
       "      <td>['nm0001428']</td>\n",
       "    </tr>\n",
       "    <tr>\n",
       "      <th>3</th>\n",
       "      <td>tt0062936</td>\n",
       "      <td>['nm0398969', 'nm0001866', 'nm1787710', 'nm016...</td>\n",
       "    </tr>\n",
       "    <tr>\n",
       "      <th>4</th>\n",
       "      <td>tt0062980</td>\n",
       "      <td>['nm0820577', 'nm0281078', 'nm0715857', 'nm056...</td>\n",
       "    </tr>\n",
       "    <tr>\n",
       "      <th>...</th>\n",
       "      <td>...</td>\n",
       "      <td>...</td>\n",
       "    </tr>\n",
       "    <tr>\n",
       "      <th>18686</th>\n",
       "      <td>tt9906644</td>\n",
       "      <td>['nm2068971', 'nm7243877', 'nm1428724']</td>\n",
       "    </tr>\n",
       "    <tr>\n",
       "      <th>18687</th>\n",
       "      <td>tt9907782</td>\n",
       "      <td>['nm2933542', 'nm0677944']</td>\n",
       "    </tr>\n",
       "    <tr>\n",
       "      <th>18688</th>\n",
       "      <td>tt9911006</td>\n",
       "      <td>['nm9588822', 'nm1675134', 'nm3617629']</td>\n",
       "    </tr>\n",
       "    <tr>\n",
       "      <th>18689</th>\n",
       "      <td>tt9914942</td>\n",
       "      <td>['nm10823679']</td>\n",
       "    </tr>\n",
       "    <tr>\n",
       "      <th>18690</th>\n",
       "      <td>tt9916730</td>\n",
       "      <td>['nm6096005', 'nm0059461', 'nm13233318', 'nm48...</td>\n",
       "    </tr>\n",
       "  </tbody>\n",
       "</table>\n",
       "<p>18691 rows × 2 columns</p>\n",
       "</div>"
      ],
      "text/plain": [
       "          tconst                                             nconst\n",
       "0      tt0061432                         ['nm0396998', 'nm0398193']\n",
       "1      tt0062847                                      ['nm0936259']\n",
       "2      tt0062870                                      ['nm0001428']\n",
       "3      tt0062936  ['nm0398969', 'nm0001866', 'nm1787710', 'nm016...\n",
       "4      tt0062980  ['nm0820577', 'nm0281078', 'nm0715857', 'nm056...\n",
       "...          ...                                                ...\n",
       "18686  tt9906644            ['nm2068971', 'nm7243877', 'nm1428724']\n",
       "18687  tt9907782                         ['nm2933542', 'nm0677944']\n",
       "18688  tt9911006            ['nm9588822', 'nm1675134', 'nm3617629']\n",
       "18689  tt9914942                                     ['nm10823679']\n",
       "18690  tt9916730  ['nm6096005', 'nm0059461', 'nm13233318', 'nm48...\n",
       "\n",
       "[18691 rows x 2 columns]"
      ]
     },
     "execution_count": 70,
     "metadata": {},
     "output_type": "execute_result"
    }
   ],
   "source": [
    "adj_df"
   ]
  },
  {
   "cell_type": "code",
   "execution_count": 71,
   "metadata": {},
   "outputs": [],
   "source": [
    "import numpy as np\n",
    "thing = np.array([])\n",
    "relations = []\n",
    "for iter, row in adj_df.iterrows():\n",
    "    inter = eval(row['nconst'])\n",
    "    list = np.array(inter)\n",
    "    thing = np.append(thing, list)\n",
    "    relations.append(inter)"
   ]
  },
  {
   "cell_type": "code",
   "execution_count": 41,
   "metadata": {},
   "outputs": [],
   "source": [
    "actors = np.unique(thing)\n",
    "mapping = {k: v for v, k in enumerate(actors)}"
   ]
  },
  {
   "cell_type": "code",
   "execution_count": 78,
   "metadata": {},
   "outputs": [],
   "source": [
    "N = len(mapping)\n",
    "import scipy\n",
    "A = scipy.sparse.lil_matrix((N, N), dtype=np.uint8)"
   ]
  },
  {
   "cell_type": "code",
   "execution_count": 75,
   "metadata": {},
   "outputs": [
    {
     "name": "stderr",
     "output_type": "stream",
     "text": [
      "  0%|          | 3/18691 [00:00<00:01, 18342.44it/s]"
     ]
    },
    {
     "name": "stdout",
     "output_type": "stream",
     "text": [
      "['nm0396998', 'nm0398193']\n",
      "['nm0936259']\n",
      "['nm0001428']\n",
      "['nm0398969', 'nm0001866', 'nm1787710', 'nm0160715']\n"
     ]
    },
    {
     "name": "stderr",
     "output_type": "stream",
     "text": [
      "\n"
     ]
    },
    {
     "ename": "TypeError",
     "evalue": "'numpy.ndarray' object is not callable",
     "output_type": "error",
     "traceback": [
      "\u001b[0;31m---------------------------------------------------------------------------\u001b[0m",
      "\u001b[0;31mTypeError\u001b[0m                                 Traceback (most recent call last)",
      "Cell \u001b[0;32mIn[75], line 12\u001b[0m\n\u001b[1;32m     10\u001b[0m     memes \u001b[39m=\u001b[39m [item]\n\u001b[1;32m     11\u001b[0m \u001b[39melse\u001b[39;00m:\n\u001b[0;32m---> 12\u001b[0m     memes \u001b[39m=\u001b[39m \u001b[39mlist\u001b[39;49m(itertools\u001b[39m.\u001b[39;49mcombinations(item, \u001b[39m2\u001b[39;49m))\n\u001b[1;32m     13\u001b[0m \u001b[39m# for item in memes:\u001b[39;00m\n\u001b[1;32m     14\u001b[0m \u001b[39m#     p1 = item[0]\u001b[39;00m\n\u001b[1;32m     15\u001b[0m \u001b[39m#     p2 = item[1]\u001b[39;00m\n\u001b[1;32m     16\u001b[0m \u001b[39m#     A[p1, p2] = True\u001b[39;00m\n",
      "\u001b[0;31mTypeError\u001b[0m: 'numpy.ndarray' object is not callable"
     ]
    }
   ],
   "source": [
    "from tqdm import tqdm\n",
    "import itertools\n",
    "counter = 0\n",
    "for item in tqdm(relations):\n",
    "    print(item)\n",
    "    if len(item) < 2:\n",
    "        continue\n",
    "    counter += 1\n",
    "    if len(item) == 2:\n",
    "        memes = [item]\n",
    "    else:\n",
    "        memes = list(itertools.combinations(item, 2))\n",
    "    # for item in memes:\n",
    "    #     p1 = item[0]\n",
    "    #     p2 = item[1]\n",
    "    #     A[p1, p2] = True\n",
    "    "
   ]
  },
  {
   "cell_type": "code",
   "execution_count": 79,
   "metadata": {},
   "outputs": [
    {
     "name": "stdout",
     "output_type": "stream",
     "text": [
      "38.680663 MB used\n"
     ]
    }
   ],
   "source": [
    "A = A.tocsr()\n",
    "# Matrix Size\n",
    "print((A.data.nbytes + A.indptr.nbytes + A.indices.nbytes) / 1e+6, \"MB used\")"
   ]
  },
  {
   "cell_type": "code",
   "execution_count": 80,
   "metadata": {},
   "outputs": [],
   "source": [
    "from scipy import sparse\n",
    "sparse.save_npz(\"adjacency_matrix.npz\", A)\n"
   ]
  }
 ],
 "metadata": {
  "kernelspec": {
   "display_name": "Python 3 (ipykernel)",
   "language": "python",
   "name": "python3"
  },
  "language_info": {
   "codemirror_mode": {
    "name": "ipython",
    "version": 3
   },
   "file_extension": ".py",
   "mimetype": "text/x-python",
   "name": "python",
   "nbconvert_exporter": "python",
   "pygments_lexer": "ipython3",
   "version": "3.10.6"
  },
  "orig_nbformat": 4
 },
 "nbformat": 4,
 "nbformat_minor": 2
}
