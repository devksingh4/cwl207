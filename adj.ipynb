{
 "cells": [
  {
   "cell_type": "code",
   "execution_count": 4,
   "metadata": {},
   "outputs": [],
   "source": [
    "import pandas as pd\n",
    "import json\n",
    "adj_df = pd.read_csv('grouped_movies_to_actors.csv')[['tconst', 'nconst']]"
   ]
  },
  {
   "cell_type": "code",
   "execution_count": 6,
   "metadata": {},
   "outputs": [
    {
     "name": "stdout",
     "output_type": "stream",
     "text": [
      "12903\n"
     ]
    }
   ],
   "source": [
    "import numpy as np\n",
    "thing = np.array([])\n",
    "relations = []\n",
    "for iter, row in adj_df.iterrows():\n",
    "    inter = eval(row['nconst'])\n",
    "    list2 = np.array(inter)\n",
    "    thing = np.append(thing, list2)\n",
    "    relations.append(inter)\n",
    "print(len(relations))"
   ]
  },
  {
   "cell_type": "code",
   "execution_count": 7,
   "metadata": {},
   "outputs": [
    {
     "data": {
      "text/plain": [
       "33857"
      ]
     },
     "execution_count": 7,
     "metadata": {},
     "output_type": "execute_result"
    }
   ],
   "source": [
    "thing.size"
   ]
  },
  {
   "cell_type": "code",
   "execution_count": 8,
   "metadata": {},
   "outputs": [],
   "source": [
    "actors = np.unique(thing)\n",
    "mapping = {k: v for v, k in enumerate(actors)}"
   ]
  },
  {
   "cell_type": "code",
   "execution_count": 9,
   "metadata": {},
   "outputs": [
    {
     "data": {
      "text/plain": [
       "2946"
      ]
     },
     "execution_count": 9,
     "metadata": {},
     "output_type": "execute_result"
    }
   ],
   "source": [
    "actors.size"
   ]
  },
  {
   "cell_type": "code",
   "execution_count": 10,
   "metadata": {},
   "outputs": [
    {
     "name": "stderr",
     "output_type": "stream",
     "text": [
      "100%|██████████| 12903/12903 [00:00<00:00, 27016.96it/s]\n"
     ]
    }
   ],
   "source": [
    "N = len(mapping)\n",
    "import scipy\n",
    "A = scipy.sparse.lil_matrix((N, N), dtype=np.uint8)\n",
    "from tqdm import tqdm\n",
    "import itertools\n",
    "counter = 0\n",
    "for item in tqdm(relations):\n",
    "        item = list(item)\n",
    "        user = None\n",
    "        if len(item) < 2:\n",
    "            continue\n",
    "        counter += 1\n",
    "        if len(item) == 2:\n",
    "            user = [item]\n",
    "        else:\n",
    "            user = list(itertools.combinations(item, 2))\n",
    "        for pair in user:\n",
    "            m1 = mapping[pair[0]]\n",
    "            m2 = mapping[pair[1]]\n",
    "            A[m1, m2] = 1\n",
    "            A[m2, m1] = 1"
   ]
  },
  {
   "cell_type": "code",
   "execution_count": 11,
   "metadata": {},
   "outputs": [
    {
     "name": "stdout",
     "output_type": "stream",
     "text": [
      "0.323068 MB used\n"
     ]
    }
   ],
   "source": [
    "A = A.tocsr()\n",
    "# Matrix Size\n",
    "print((A.data.nbytes + A.indptr.nbytes + A.indices.nbytes) / 1e+6, \"MB used\")"
   ]
  },
  {
   "cell_type": "code",
   "execution_count": 12,
   "metadata": {},
   "outputs": [],
   "source": [
    "from scipy import sparse\n",
    "sparse.save_npz(\"adjacency_matrix.npz\", A)\n"
   ]
  },
  {
   "cell_type": "code",
   "execution_count": 13,
   "metadata": {},
   "outputs": [],
   "source": [
    "import json\n",
    "with open(\"mapping.json\", \"w\") as fp:\n",
    "    json.dump(mapping,fp) "
   ]
  }
 ],
 "metadata": {
  "kernelspec": {
   "display_name": "Python 3 (ipykernel)",
   "language": "python",
   "name": "python3"
  },
  "language_info": {
   "codemirror_mode": {
    "name": "ipython",
    "version": 3
   },
   "file_extension": ".py",
   "mimetype": "text/x-python",
   "name": "python",
   "nbconvert_exporter": "python",
   "pygments_lexer": "ipython3",
   "version": "3.10.6"
  },
  "orig_nbformat": 4
 },
 "nbformat": 4,
 "nbformat_minor": 2
}
