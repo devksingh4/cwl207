{
 "cells": [
  {
   "cell_type": "code",
   "execution_count": 1,
   "metadata": {},
   "outputs": [],
   "source": [
    "import pandas as pd\n",
    "import json\n",
    "adj_df = pd.read_csv('grouped_movies_to_actors.csv')[['tconst', 'nconst']]"
   ]
  },
  {
   "cell_type": "code",
   "execution_count": 2,
   "metadata": {},
   "outputs": [
    {
     "data": {
      "text/html": [
       "<div>\n",
       "<style scoped>\n",
       "    .dataframe tbody tr th:only-of-type {\n",
       "        vertical-align: middle;\n",
       "    }\n",
       "\n",
       "    .dataframe tbody tr th {\n",
       "        vertical-align: top;\n",
       "    }\n",
       "\n",
       "    .dataframe thead th {\n",
       "        text-align: right;\n",
       "    }\n",
       "</style>\n",
       "<table border=\"1\" class=\"dataframe\">\n",
       "  <thead>\n",
       "    <tr style=\"text-align: right;\">\n",
       "      <th></th>\n",
       "      <th>tconst</th>\n",
       "      <th>nconst</th>\n",
       "    </tr>\n",
       "  </thead>\n",
       "  <tbody>\n",
       "    <tr>\n",
       "      <th>0</th>\n",
       "      <td>tt0061432</td>\n",
       "      <td>['nm0396998', 'nm0398193']</td>\n",
       "    </tr>\n",
       "    <tr>\n",
       "      <th>1</th>\n",
       "      <td>tt0062847</td>\n",
       "      <td>['nm0936259']</td>\n",
       "    </tr>\n",
       "    <tr>\n",
       "      <th>2</th>\n",
       "      <td>tt0062870</td>\n",
       "      <td>['nm0001428']</td>\n",
       "    </tr>\n",
       "    <tr>\n",
       "      <th>3</th>\n",
       "      <td>tt0062936</td>\n",
       "      <td>['nm0398969', 'nm0001866', 'nm1787710', 'nm016...</td>\n",
       "    </tr>\n",
       "    <tr>\n",
       "      <th>4</th>\n",
       "      <td>tt0062980</td>\n",
       "      <td>['nm0820577', 'nm0281078', 'nm0715857', 'nm056...</td>\n",
       "    </tr>\n",
       "    <tr>\n",
       "      <th>...</th>\n",
       "      <td>...</td>\n",
       "      <td>...</td>\n",
       "    </tr>\n",
       "    <tr>\n",
       "      <th>18686</th>\n",
       "      <td>tt9906644</td>\n",
       "      <td>['nm2068971', 'nm7243877', 'nm1428724']</td>\n",
       "    </tr>\n",
       "    <tr>\n",
       "      <th>18687</th>\n",
       "      <td>tt9907782</td>\n",
       "      <td>['nm2933542', 'nm0677944']</td>\n",
       "    </tr>\n",
       "    <tr>\n",
       "      <th>18688</th>\n",
       "      <td>tt9911006</td>\n",
       "      <td>['nm9588822', 'nm1675134', 'nm3617629']</td>\n",
       "    </tr>\n",
       "    <tr>\n",
       "      <th>18689</th>\n",
       "      <td>tt9914942</td>\n",
       "      <td>['nm10823679']</td>\n",
       "    </tr>\n",
       "    <tr>\n",
       "      <th>18690</th>\n",
       "      <td>tt9916730</td>\n",
       "      <td>['nm6096005', 'nm0059461', 'nm13233318', 'nm48...</td>\n",
       "    </tr>\n",
       "  </tbody>\n",
       "</table>\n",
       "<p>18691 rows × 2 columns</p>\n",
       "</div>"
      ],
      "text/plain": [
       "          tconst                                             nconst\n",
       "0      tt0061432                         ['nm0396998', 'nm0398193']\n",
       "1      tt0062847                                      ['nm0936259']\n",
       "2      tt0062870                                      ['nm0001428']\n",
       "3      tt0062936  ['nm0398969', 'nm0001866', 'nm1787710', 'nm016...\n",
       "4      tt0062980  ['nm0820577', 'nm0281078', 'nm0715857', 'nm056...\n",
       "...          ...                                                ...\n",
       "18686  tt9906644            ['nm2068971', 'nm7243877', 'nm1428724']\n",
       "18687  tt9907782                         ['nm2933542', 'nm0677944']\n",
       "18688  tt9911006            ['nm9588822', 'nm1675134', 'nm3617629']\n",
       "18689  tt9914942                                     ['nm10823679']\n",
       "18690  tt9916730  ['nm6096005', 'nm0059461', 'nm13233318', 'nm48...\n",
       "\n",
       "[18691 rows x 2 columns]"
      ]
     },
     "execution_count": 2,
     "metadata": {},
     "output_type": "execute_result"
    }
   ],
   "source": [
    "adj_df"
   ]
  },
  {
   "cell_type": "code",
   "execution_count": 4,
   "metadata": {},
   "outputs": [
    {
     "name": "stdout",
     "output_type": "stream",
     "text": [
      "18691\n"
     ]
    }
   ],
   "source": [
    "import numpy as np\n",
    "thing = np.array([])\n",
    "relations = []\n",
    "for iter, row in adj_df.iterrows():\n",
    "    inter = eval(row['nconst'])\n",
    "    list2 = np.array(inter)\n",
    "    thing = np.append(thing, list2)\n",
    "    relations.append(inter)\n",
    "print(len(relations))"
   ]
  },
  {
   "cell_type": "code",
   "execution_count": 5,
   "metadata": {},
   "outputs": [
    {
     "data": {
      "text/plain": [
       "49779"
      ]
     },
     "execution_count": 5,
     "metadata": {},
     "output_type": "execute_result"
    }
   ],
   "source": [
    "thing.size"
   ]
  },
  {
   "cell_type": "code",
   "execution_count": 6,
   "metadata": {},
   "outputs": [],
   "source": [
    "actors = np.unique(thing)\n",
    "mapping = {k: v for v, k in enumerate(actors)}"
   ]
  },
  {
   "cell_type": "code",
   "execution_count": 26,
   "metadata": {},
   "outputs": [
    {
     "name": "stderr",
     "output_type": "stream",
     "text": [
      "100%|██████████| 18691/18691 [00:00<00:00, 28461.22it/s]\n"
     ]
    }
   ],
   "source": [
    "N = len(mapping)\n",
    "import scipy\n",
    "A = scipy.sparse.lil_matrix((N, N), dtype=np.uint8)\n",
    "from tqdm import tqdm\n",
    "import itertools\n",
    "counter = 0\n",
    "for item in tqdm(relations):\n",
    "        item = list(item)\n",
    "        user = None\n",
    "        if len(item) < 2:\n",
    "            continue\n",
    "        counter += 1\n",
    "        if len(item) == 2:\n",
    "            user = [item]\n",
    "        else:\n",
    "            user = list(itertools.combinations(item, 2))\n",
    "        for pair in user:\n",
    "            m1 = mapping[pair[0]]\n",
    "            m2 = mapping[pair[1]]\n",
    "            A[m1, m2] = 1\n",
    "            A[m2, m1] = 1"
   ]
  },
  {
   "cell_type": "code",
   "execution_count": 27,
   "metadata": {},
   "outputs": [
    {
     "name": "stdout",
     "output_type": "stream",
     "text": [
      "0.57815 MB used\n"
     ]
    }
   ],
   "source": [
    "A = A.tocsr()\n",
    "# Matrix Size\n",
    "print((A.data.nbytes + A.indptr.nbytes + A.indices.nbytes) / 1e+6, \"MB used\")"
   ]
  },
  {
   "cell_type": "code",
   "execution_count": 28,
   "metadata": {},
   "outputs": [],
   "source": [
    "from scipy import sparse\n",
    "sparse.save_npz(\"adjacency_matrix.npz\", A)\n"
   ]
  },
  {
   "cell_type": "code",
   "execution_count": 29,
   "metadata": {},
   "outputs": [],
   "source": [
    "import json\n",
    "with open(\"mapping.json\", \"w\") as fp:\n",
    "    json.dump(mapping,fp) "
   ]
  }
 ],
 "metadata": {
  "kernelspec": {
   "display_name": "Python 3 (ipykernel)",
   "language": "python",
   "name": "python3"
  },
  "language_info": {
   "codemirror_mode": {
    "name": "ipython",
    "version": 3
   },
   "file_extension": ".py",
   "mimetype": "text/x-python",
   "name": "python",
   "nbconvert_exporter": "python",
   "pygments_lexer": "ipython3",
   "version": "3.10.6"
  },
  "orig_nbformat": 4
 },
 "nbformat": 4,
 "nbformat_minor": 2
}
