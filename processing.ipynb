{
 "cells": [
  {
   "cell_type": "code",
   "execution_count": 7,
   "metadata": {},
   "outputs": [],
   "source": [
    "import pandas as pd\n",
    "amitabh_df = pd.read_csv(\"amitabh_movies.csv\")\n",
    "actors_df = pd.read_csv(\"actors.csv\")\n",
    "principals_df = pd.read_csv('title.principals.tsv', sep='\\t')"
   ]
  },
  {
   "cell_type": "code",
   "execution_count": 8,
   "metadata": {},
   "outputs": [],
   "source": [
    "amitabh_consts = amitabh_df['tconst'].unique()\n",
    "amitabh_nconst = 'nm0000821'"
   ]
  },
  {
   "cell_type": "code",
   "execution_count": 14,
   "metadata": {},
   "outputs": [
    {
     "data": {
      "text/html": [
       "<div>\n",
       "<style scoped>\n",
       "    .dataframe tbody tr th:only-of-type {\n",
       "        vertical-align: middle;\n",
       "    }\n",
       "\n",
       "    .dataframe tbody tr th {\n",
       "        vertical-align: top;\n",
       "    }\n",
       "\n",
       "    .dataframe thead th {\n",
       "        text-align: right;\n",
       "    }\n",
       "</style>\n",
       "<table border=\"1\" class=\"dataframe\">\n",
       "  <thead>\n",
       "    <tr style=\"text-align: right;\">\n",
       "      <th></th>\n",
       "      <th>tconst</th>\n",
       "      <th>ordering</th>\n",
       "      <th>nconst</th>\n",
       "      <th>category</th>\n",
       "      <th>job</th>\n",
       "      <th>characters</th>\n",
       "    </tr>\n",
       "  </thead>\n",
       "  <tbody>\n",
       "    <tr>\n",
       "      <th>562289</th>\n",
       "      <td>tt0066763</td>\n",
       "      <td>1</td>\n",
       "      <td>nm0004435</td>\n",
       "      <td>actor</td>\n",
       "      <td>\\N</td>\n",
       "      <td>[\"Anand Saigal\"]</td>\n",
       "    </tr>\n",
       "    <tr>\n",
       "      <th>562290</th>\n",
       "      <td>tt0066763</td>\n",
       "      <td>2</td>\n",
       "      <td>nm0000821</td>\n",
       "      <td>actor</td>\n",
       "      <td>\\N</td>\n",
       "      <td>[\"Dr. Bhaskar K. Bannerjee\",\"Babu Moshai\"]</td>\n",
       "    </tr>\n",
       "    <tr>\n",
       "      <th>562292</th>\n",
       "      <td>tt0066763</td>\n",
       "      <td>4</td>\n",
       "      <td>nm0219946</td>\n",
       "      <td>actor</td>\n",
       "      <td>\\N</td>\n",
       "      <td>[\"Dr. Prakash Kulkarni\"]</td>\n",
       "    </tr>\n",
       "  </tbody>\n",
       "</table>\n",
       "</div>"
      ],
      "text/plain": [
       "           tconst  ordering     nconst category job  \\\n",
       "562289  tt0066763         1  nm0004435    actor  \\N   \n",
       "562290  tt0066763         2  nm0000821    actor  \\N   \n",
       "562292  tt0066763         4  nm0219946    actor  \\N   \n",
       "\n",
       "                                        characters  \n",
       "562289                            [\"Anand Saigal\"]  \n",
       "562290  [\"Dr. Bhaskar K. Bannerjee\",\"Babu Moshai\"]  \n",
       "562292                    [\"Dr. Prakash Kulkarni\"]  "
      ]
     },
     "execution_count": 14,
     "metadata": {},
     "output_type": "execute_result"
    }
   ],
   "source": [
    "interim = []\n",
    "principals_df[(principals_df['tconst'] == \"tt0066763\") & (principals_df['category'] == 'actor')]"
   ]
  }
 ],
 "metadata": {
  "kernelspec": {
   "display_name": "Python 3 (ipykernel)",
   "language": "python",
   "name": "python3"
  },
  "language_info": {
   "codemirror_mode": {
    "name": "ipython",
    "version": 3
   },
   "file_extension": ".py",
   "mimetype": "text/x-python",
   "name": "python",
   "nbconvert_exporter": "python",
   "pygments_lexer": "ipython3",
   "version": "3.10.6"
  },
  "orig_nbformat": 4
 },
 "nbformat": 4,
 "nbformat_minor": 2
}
