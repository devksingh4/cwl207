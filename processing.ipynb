{
 "cells": [
  {
   "cell_type": "code",
   "execution_count": null,
   "metadata": {},
   "outputs": [],
   "source": [
    "import pandas as pd\n",
    "dtypes  = {\"tconst\": \"string[pyarrow]\", \"ordering\": \"int64\", \"nconst\": \"string\", \"category\": \"string\", \"job\": \"string\", \"characters\": \"string\"}\n",
    "principals_df = pd.read_csv('title.principals.tsv', sep='\\t', dtype=dtypes)\n",
    "principals_df = principals_df[(principals_df['category'] == 'actor') | (principals_df['category'] == 'actress')]"
   ]
  },
  {
   "cell_type": "code",
   "execution_count": null,
   "metadata": {},
   "outputs": [],
   "source": [
    "principals_df = principals_df[['tconst', 'nconst']].reset_index()\n",
    "principals_df = principals_df[['tconst', 'nconst']]\n",
    "amitabh_nconst = 'nm0000821'"
   ]
  },
  {
   "cell_type": "code",
   "execution_count": null,
   "metadata": {},
   "outputs": [],
   "source": [
    "df2 = pd.read_csv('https://datasets.imdbws.com/title.akas.tsv.gz' , compression='gzip', sep='\\t')"
   ]
  },
  {
   "cell_type": "code",
   "execution_count": null,
   "metadata": {},
   "outputs": [],
   "source": [
    "indian_movies = df2[(df2['region'] == 'IN') & (df2['language'] == 'hi')]"
   ]
  },
  {
   "cell_type": "code",
   "execution_count": null,
   "metadata": {},
   "outputs": [],
   "source": [
    "df3 = pd.read_csv('https://datasets.imdbws.com/title.basics.tsv.gz' , compression='gzip', sep='\\t')"
   ]
  },
  {
   "cell_type": "code",
   "execution_count": null,
   "metadata": {},
   "outputs": [],
   "source": [
    "merged = indian_movies.merge(left_on=\"titleId\", right_on=\"tconst\", right=df3)"
   ]
  },
  {
   "cell_type": "code",
   "execution_count": null,
   "metadata": {},
   "outputs": [],
   "source": [
    "merged = merged[merged['titleType'] == 'movie']\n",
    "merged = merged[merged['startYear'] != '\\\\N']\n",
    "merged = merged.astype({'startYear': 'int32'})\n",
    "merged = merged[merged['startYear'] > 1968]\n",
    "merged = merged[merged['isAdult'] == 0]"
   ]
  },
  {
   "cell_type": "code",
   "execution_count": null,
   "metadata": {},
   "outputs": [],
   "source": [
    "# principals_df['mapped_nconst'] = principals_df['nconst'].map(mapping)\n",
    "grouped = principals_df[['tconst', 'nconst']]\n"
   ]
  },
  {
   "cell_type": "code",
   "execution_count": null,
   "metadata": {},
   "outputs": [],
   "source": [
    "wewant = merged['tconst']\n",
    "grouped = grouped.loc[grouped['tconst'].isin(wewant)]\n",
    "grouped = grouped[grouped['nconst'].map(grouped['nconst'].value_counts()) >= 2]\n"
   ]
  },
  {
   "cell_type": "code",
   "execution_count": null,
   "metadata": {},
   "outputs": [],
   "source": [
    "grouped"
   ]
  },
  {
   "cell_type": "code",
   "execution_count": null,
   "metadata": {},
   "outputs": [],
   "source": [
    "grouped.reset_index(inplace=True)"
   ]
  },
  {
   "cell_type": "code",
   "execution_count": null,
   "metadata": {},
   "outputs": [],
   "source": [
    "grouped = grouped[['tconst', 'nconst']]\n"
   ]
  },
  {
   "cell_type": "code",
   "execution_count": null,
   "metadata": {},
   "outputs": [],
   "source": [
    "import numpy as np\n",
    "def fast_grouper(df):\n",
    "    keys, values = df.sort_values('tconst').values.T\n",
    "    uniques, idx = np.unique(keys, True)\n",
    "    arrays = np.split(values, idx[1:])\n",
    "    df2 = pd.DataFrame({'tconst':uniques, 'nconst':[list(a) for a in arrays]})\n",
    "    return df2"
   ]
  },
  {
   "cell_type": "code",
   "execution_count": null,
   "metadata": {},
   "outputs": [],
   "source": [
    "grouped = fast_grouper(grouped)"
   ]
  },
  {
   "cell_type": "code",
   "execution_count": null,
   "metadata": {},
   "outputs": [],
   "source": [
    "grouped.to_csv(\"grouped_movies_to_actors.csv\", index=False)"
   ]
  }
 ],
 "metadata": {
  "kernelspec": {
   "display_name": "Python 3 (ipykernel)",
   "language": "python",
   "name": "python3"
  },
  "orig_nbformat": 4
 },
 "nbformat": 4,
 "nbformat_minor": 2
}
