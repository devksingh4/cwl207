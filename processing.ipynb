{
 "cells": [
  {
   "cell_type": "code",
   "execution_count": 1,
   "metadata": {},
   "outputs": [],
   "source": [
    "import pandas as pd\n",
    "dtypes  = {\"tconst\": \"string[pyarrow]\", \"ordering\": \"int64\", \"nconst\": \"string\", \"category\": \"string\", \"job\": \"string\", \"characters\": \"string\"}\n",
    "amitabh_df = pd.read_csv(\"amitabh_movies.csv\", dtype=dtypes)\n",
    "actors_df = pd.read_csv(\"actors.csv\")\n",
    "principals_df = pd.read_csv('title.principals.tsv', sep='\\t', dtype=dtypes)\n",
    "principals_df = principals_df[principals_df['category'] == 'actor']"
   ]
  },
  {
   "cell_type": "code",
   "execution_count": 4,
   "metadata": {},
   "outputs": [],
   "source": [
    "principals_df = principals_df[['tconst', 'nconst']].reset_index()\n",
    "principals_df = principals_df[['tconst', 'nconst']]\n",
    "amitabh_nconst = 'nm0000821'"
   ]
  },
  {
   "cell_type": "code",
   "execution_count": 6,
   "metadata": {},
   "outputs": [
    {
     "name": "stderr",
     "output_type": "stream",
     "text": [
      "/home/dsingh/.tmp/ipykernel_417125/1894314870.py:1: DtypeWarning: Columns (7) have mixed types. Specify dtype option on import or set low_memory=False.\n",
      "  df2 = pd.read_csv('https://datasets.imdbws.com/title.akas.tsv.gz' , compression='gzip', sep='\\t')\n"
     ]
    }
   ],
   "source": [
    "df2 = pd.read_csv('https://datasets.imdbws.com/title.akas.tsv.gz' , compression='gzip', sep='\\t')"
   ]
  },
  {
   "cell_type": "code",
   "execution_count": 7,
   "metadata": {},
   "outputs": [],
   "source": [
    "indian_movies = df2[(df2['region'] == 'IN') & (df2['language'] == 'hi')]"
   ]
  },
  {
   "cell_type": "code",
   "execution_count": 8,
   "metadata": {},
   "outputs": [
    {
     "name": "stderr",
     "output_type": "stream",
     "text": [
      "/home/dsingh/.tmp/ipykernel_417125/537892919.py:1: DtypeWarning: Columns (4) have mixed types. Specify dtype option on import or set low_memory=False.\n",
      "  df3 = pd.read_csv('https://datasets.imdbws.com/title.basics.tsv.gz' , compression='gzip', sep='\\t')\n"
     ]
    }
   ],
   "source": [
    "df3 = pd.read_csv('https://datasets.imdbws.com/title.basics.tsv.gz' , compression='gzip', sep='\\t')"
   ]
  },
  {
   "cell_type": "code",
   "execution_count": 9,
   "metadata": {},
   "outputs": [],
   "source": [
    "merged = indian_movies.merge(left_on=\"titleId\", right_on=\"tconst\", right=df3)"
   ]
  },
  {
   "cell_type": "code",
   "execution_count": 13,
   "metadata": {},
   "outputs": [],
   "source": [
    "merged = merged[merged['titleType'] == 'movie']\n",
    "merged = merged[merged['startYear'] != '\\\\N']\n",
    "merged = merged.astype({'startYear': 'int32'})\n",
    "merged = merged[merged['startYear'] > 1968]"
   ]
  },
  {
   "cell_type": "code",
   "execution_count": 28,
   "metadata": {},
   "outputs": [],
   "source": [
    "# principals_df['mapped_nconst'] = principals_df['nconst'].map(mapping)\n",
    "grouped = principals_df[['tconst', 'nconst']]\n"
   ]
  },
  {
   "cell_type": "code",
   "execution_count": 29,
   "metadata": {},
   "outputs": [],
   "source": [
    "wewant = merged['tconst']\n",
    "grouped = grouped.loc[grouped['tconst'].isin(wewant)]"
   ]
  },
  {
   "cell_type": "code",
   "execution_count": 32,
   "metadata": {},
   "outputs": [],
   "source": [
    "grouped.reset_index(inplace=True)"
   ]
  },
  {
   "cell_type": "code",
   "execution_count": 33,
   "metadata": {},
   "outputs": [],
   "source": [
    "grouped = grouped[['tconst', 'nconst']]\n"
   ]
  },
  {
   "cell_type": "code",
   "execution_count": 36,
   "metadata": {},
   "outputs": [],
   "source": [
    "import numpy as np\n",
    "def fast_grouper(df):\n",
    "    keys, values = df.sort_values('tconst').values.T\n",
    "    uniques, idx = np.unique(keys, True)\n",
    "    arrays = np.split(values, idx[1:])\n",
    "    df2 = pd.DataFrame({'tconst':uniques, 'nconst':[list(a) for a in arrays]})\n",
    "    return df2"
   ]
  },
  {
   "cell_type": "code",
   "execution_count": 37,
   "metadata": {},
   "outputs": [],
   "source": [
    "grouped = fast_grouper(grouped)"
   ]
  },
  {
   "cell_type": "code",
   "execution_count": 42,
   "metadata": {},
   "outputs": [],
   "source": [
    "grouped.to_csv(\"grouped_movies_to_actors.csv\", index=False)"
   ]
  }
 ],
 "metadata": {
  "kernelspec": {
   "display_name": "Python 3 (ipykernel)",
   "language": "python",
   "name": "python3"
  },
  "language_info": {
   "codemirror_mode": {
    "name": "ipython",
    "version": 3
   },
   "file_extension": ".py",
   "mimetype": "text/x-python",
   "name": "python",
   "nbconvert_exporter": "python",
   "pygments_lexer": "ipython3",
   "version": "3.10.6"
  },
  "orig_nbformat": 4
 },
 "nbformat": 4,
 "nbformat_minor": 2
}
